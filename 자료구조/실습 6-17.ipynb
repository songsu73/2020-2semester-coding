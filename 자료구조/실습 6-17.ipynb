{
 "cells": [
  {
   "cell_type": "code",
   "execution_count": 1,
   "metadata": {},
   "outputs": [
    {
     "name": "stdout",
     "output_type": "stream",
     "text": [
      "도수 정렬을 합니다.\n",
      "원소 수를 입력하세요. : 5\n",
      "x[0] : 5000\n",
      "x[1] : 6000\n",
      "x[2] : 4000\n",
      "x[3] : 3000\n",
      "x[4] : 8000\n",
      "오름차순으로 정렬했습니다.\n",
      "x[0] = 3000\n",
      "x[1] = 4000\n",
      "x[2] = 5000\n",
      "x[3] = 6000\n",
      "x[4] = 8000\n"
     ]
    }
   ],
   "source": [
    "from typing import MutableSequence\n",
    "\n",
    "def fsort(a: MutableSequence, max: int) -> None:\n",
    "    n = len(a)           # 정렬할 배열 a\n",
    "    f = [0] * (max + 1)  # 누적 도수 분포표 배열 f\n",
    "    b = [0] * n          # 작업용 배열 b\n",
    "\n",
    "    for i in range(n):              f[a[i]] += 1                     # [1단계] 도수분포표 만들기\n",
    "    for i in range(1, max + 1):     f[i] += f[i - 1]                 # [2단계]누적 도수 분포 표 만들기\n",
    "    for i in range(n - 1, -1, -1):  f[a[i]] -= 1; b[f[a[i]]] = a[i]  # [3단계]작업용 배열 만들기\n",
    "    for i in range(n):              a[i] = b[i]                      # [4단계]배열 복사하기\n",
    "\n",
    "def counting_sort(a: MutableSequence) -> None:\n",
    "    fsort(a, max(a))\n",
    "\n",
    "if __name__ == '__main__':\n",
    "    print('도수 정렬을 합니다.')\n",
    "    num = int(input('원소 수를 입력하세요. : '))\n",
    "    x = [None] * num  # 원소 수가 num인 배열을 생성\n",
    "\n",
    "    for i in range(num):  # 양수만 입력받음(다른배열에도 있어야 할 것으로 보임)\n",
    "        while True:\n",
    "            x[i] = int(input(f'x[{i}] : '))\n",
    "            if x[i] >= 0: break\n",
    "\n",
    "    counting_sort(x)  # 배열 x를 도수 정렬\n",
    "\n",
    "    print('오름차순으로 정렬했습니다.')\n",
    "    for i in range(num):\n",
    "        print(f'x[{i}] = {x[i]}')"
   ]
  },
  {
   "cell_type": "code",
   "execution_count": null,
   "metadata": {},
   "outputs": [],
   "source": []
  }
 ],
 "metadata": {
  "kernelspec": {
   "display_name": "Python 3",
   "language": "python",
   "name": "python3"
  },
  "language_info": {
   "codemirror_mode": {
    "name": "ipython",
    "version": 3
   },
   "file_extension": ".py",
   "mimetype": "text/x-python",
   "name": "python",
   "nbconvert_exporter": "python",
   "pygments_lexer": "ipython3",
   "version": "3.8.3"
  }
 },
 "nbformat": 4,
 "nbformat_minor": 4
}
