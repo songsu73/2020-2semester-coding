{
 "cells": [
  {
   "cell_type": "code",
   "execution_count": 1,
   "metadata": {},
   "outputs": [
    {
     "name": "stdout",
     "output_type": "stream",
     "text": [
      "퀵 정렬을 수행합니다.\n",
      "원소 수를 입력하세요.: 7\n",
      "x[0]: 8\n",
      "x[1]: 7\n",
      "x[2]: 6\n",
      "x[3]: 4\n",
      "x[4]: 3\n",
      "x[5]: 2\n",
      "x[6]: 1\n",
      "오름차순으로 정렬했습니다.\n",
      "x[0] = 1\n",
      "x[1] = 2\n",
      "x[2] = 3\n",
      "x[3] = 4\n",
      "x[4] = 6\n",
      "x[5] = 7\n",
      "x[6] = 8\n"
     ]
    }
   ],
   "source": [
    "from typing import MutableSequence\n",
    "\n",
    "def qsort(a: MutableSequence, left: int, right: int) -> None:\n",
    "    pl = left                   # 피벗 left\n",
    "    pr = right                  # 피벗 right\n",
    "    x = a[(left + right) // 2]  # 피벗(가운데 요소)\n",
    "\n",
    "    while pl <= pr:    # 실습 6-10과 같은 while 문 -> 두 그룹으로 나누는 반복문\n",
    "        while a[pl] < x: pl += 1\n",
    "        while a[pr] > x: pr -= 1\n",
    "        if pl <= pr:\n",
    "            a[pl], a[pr] = a[pr], a[pl]\n",
    "            pl += 1\n",
    "            pr -= 1\n",
    "\n",
    "    if left < pr: qsort(a, left, pr) ## 재귀함수형식을 취함으로써 퀵정렬을 만든다 대신 right를 pr로 변경함으로써 피벗이하만 다시 qsort\n",
    "    if pl < right: qsort(a, pl, right) ## 재귀함수형식을 취함으로써 퀵정렬을 만든다 대신 left를 pl로 변경함으로써 피벗이상만 다시 qsort\n",
    "\n",
    "def quick_sort(a: MutableSequence) -> None:\n",
    "    qsort(a, 0, len(a) - 1)\n",
    "\n",
    "if __name__ == '__main__':\n",
    "    print('퀵 정렬을 수행합니다.')\n",
    "    num = int(input('원소 수를 입력하세요.: '))\n",
    "    x = [None] * num   \n",
    "\n",
    "    for i in range(num):\n",
    "        x[i] = int(input(f'x[{i}]: '))\n",
    "\n",
    "    quick_sort(x)      # 배열 x를 퀵 정렬 -> 재귀함수를 이용한 퀵정렬\n",
    "\n",
    "    print('오름차순으로 정렬했습니다.')\n",
    "    for i in range(num):\n",
    "        print(f'x[{i}] = {x[i]}')"
   ]
  },
  {
   "cell_type": "code",
   "execution_count": null,
   "metadata": {},
   "outputs": [],
   "source": []
  }
 ],
 "metadata": {
  "kernelspec": {
   "display_name": "Python 3",
   "language": "python",
   "name": "python3"
  },
  "language_info": {
   "codemirror_mode": {
    "name": "ipython",
    "version": 3
   },
   "file_extension": ".py",
   "mimetype": "text/x-python",
   "name": "python",
   "nbconvert_exporter": "python",
   "pygments_lexer": "ipython3",
   "version": "3.8.3"
  }
 },
 "nbformat": 4,
 "nbformat_minor": 4
}
