{
 "cells": [
  {
   "cell_type": "code",
   "execution_count": 7,
   "metadata": {},
   "outputs": [
    {
     "name": "stdout",
     "output_type": "stream",
     "text": [
      "출력할 팩토리얼 값을 입력하세요.: 10\n",
      "10의 팩토리얼은 3628800입니다.\n"
     ]
    }
   ],
   "source": [
    "def factorial(n: int) -> int:\n",
    "    if n > 0:\n",
    "        return n * factorial(n - 1)\n",
    "    else:\n",
    "        return 1\n",
    "\n",
    "n = int(input('출력할 팩토리얼 값을 입력하세요.: '))\n",
    "print(f'{n}의 팩토리얼은 {factorial(n)}입니다.')"
   ]
  },
  {
   "cell_type": "code",
   "execution_count": 1,
   "metadata": {},
   "outputs": [
    {
     "name": "stdout",
     "output_type": "stream",
     "text": [
      "출력할 팩토리얼 값을 입력하세요.: -10\n",
      "-10의 팩토리얼은 구할 수 없습니다.\n"
     ]
    }
   ],
   "source": [
    "def factorial(n : int) -> int:\n",
    "    if n > 0:\n",
    "        return n * factorial(n - 1)\n",
    "    elif n == 0:\n",
    "        return 1\n",
    "    else:\n",
    "        raise ValueError\n",
    "\n",
    "n = int(input('출력할 팩토리얼 값을 입력하세요.: '))\n",
    "try:\n",
    "    print(f'{n}의 팩토리얼은 {factorial(n)}입니다.')\n",
    "except ValueError:\n",
    "    print(f'{n}의 팩토리얼은 구할 수 없습니다.')"
   ]
  },
  {
   "cell_type": "code",
   "execution_count": null,
   "metadata": {},
   "outputs": [],
   "source": []
  }
 ],
 "metadata": {
  "kernelspec": {
   "display_name": "Python 3",
   "language": "python",
   "name": "python3"
  },
  "language_info": {
   "codemirror_mode": {
    "name": "ipython",
    "version": 3
   },
   "file_extension": ".py",
   "mimetype": "text/x-python",
   "name": "python",
   "nbconvert_exporter": "python",
   "pygments_lexer": "ipython3",
   "version": "3.8.3"
  }
 },
 "nbformat": 4,
 "nbformat_minor": 4
}
