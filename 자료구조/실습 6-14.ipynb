{
 "cells": [
  {
   "cell_type": "code",
   "execution_count": 2,
   "metadata": {},
   "outputs": [
    {
     "name": "stdout",
     "output_type": "stream",
     "text": [
      "정렬을 마친 두 배열의 병합을 수행합니다.\n",
      "배열 a와 b를 병합하여 배열 c에 저장하였습니다.\n",
      "배열 a: [13, 11, 8, 6, 2, 4]\n",
      "배열 b: [1, 2, 3, 4, 9, 16, 21]\n",
      "배열 c: [1, 2, 3, 4, 9, 13, 11, 8, 6, 2, 4, 16, 21]\n"
     ]
    }
   ],
   "source": [
    "from typing import Sequence, MutableSequence\n",
    "\n",
    "def merge_sorted_list(a: Sequence, b: Sequence, c: MutableSequence) -> None:\n",
    "    \"\"\"정렬을 마친 배열 a와 b를 병합하여 c에 저장\"\"\"\n",
    "    pa, pb, pc = 0, 0, 0                 # 각 배열의 커서\n",
    "    na, nb, nc = len(a), len(b), len(c)  # 각 배열의 원소수 \n",
    "\n",
    "    while pa < na and pb < nb:  # pa와 pb를 비교하여 작은 값을 pc에 저장\n",
    "        if a[pa] <= b[pb]:\n",
    "            c[pc] = a[pa]\n",
    "            pa += 1 ##pc에 pa를 저장하고 a배열의 커서 +1\n",
    "        else:\n",
    "            c[pc] = b[pb]\n",
    "            pb += 1 ##pc에 pb를 저장하고 b배열의 커서 +1\n",
    "        pc += 1 ##pc에 pa나 pb를 저장하였으므로 c배열의 커서 +1\n",
    " \n",
    "    while pa < na:              # a에 남은 원소를 복사\n",
    "        c[pc] = a[pa]\n",
    "        pa += 1\n",
    "        pc += 1\n",
    "\n",
    "    while pb < nb:              # b에 남은 원소를 복사\n",
    "        c[pc] = b[pb]\n",
    "        pb += 1\n",
    "        pc += 1\n",
    "\n",
    "if __name__ == '__main__':\n",
    "    a = [13,11,8,6,2,4] ##정렬이 되지 않도록 설정해본 결과 병합이 매우 뒤죽박죽으로 나옴 -> 병합 정렬시에는 정렬된 배열을 사용(현재소스코드에서는)\n",
    "    b = [1, 2, 3, 4, 9, 16, 21]\n",
    "    c = [None] * (len(a) + len(b))\n",
    "    print('정렬을 마친 두 배열의 병합을 수행합니다.')\n",
    "\n",
    "    merge_sorted_list(a, b, c)  # 배열 a와 b를 병합하여 c에 저장\n",
    "\n",
    "    print('배열 a와 b를 병합하여 배열 c에 저장하였습니다.')\n",
    "    print(f'배열 a: {a}')\n",
    "    print(f'배열 b: {b}')\n",
    "    print(f'배열 c: {c}')"
   ]
  },
  {
   "cell_type": "code",
   "execution_count": null,
   "metadata": {},
   "outputs": [],
   "source": []
  }
 ],
 "metadata": {
  "kernelspec": {
   "display_name": "Python 3",
   "language": "python",
   "name": "python3"
  },
  "language_info": {
   "codemirror_mode": {
    "name": "ipython",
    "version": 3
   },
   "file_extension": ".py",
   "mimetype": "text/x-python",
   "name": "python",
   "nbconvert_exporter": "python",
   "pygments_lexer": "ipython3",
   "version": "3.8.3"
  }
 },
 "nbformat": 4,
 "nbformat_minor": 4
}
