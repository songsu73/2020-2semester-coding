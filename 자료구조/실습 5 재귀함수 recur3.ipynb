{
 "cells": [
  {
   "cell_type": "code",
   "execution_count": 1,
   "metadata": {},
   "outputs": [
    {
     "name": "stdout",
     "output_type": "stream",
     "text": [
      "정수값 입력 : 5\n",
      "1\n",
      "2\n",
      "3\n",
      "1\n",
      "4\n",
      "1\n",
      "2\n",
      "5\n",
      "1\n",
      "2\n",
      "3\n",
      "1\n"
     ]
    }
   ],
   "source": [
    "from stack import Stack\n",
    "\n",
    "def recur(n : int) -> int :\n",
    "    s = Stack(n)\n",
    "    while True :\n",
    "        if n > 0 :\n",
    "            s.push(n)\n",
    "            n = n -1\n",
    "            continue\n",
    "        if not s.is_empty() :\n",
    "            n = s.pop()\n",
    "            print(n)\n",
    "            n = n-2\n",
    "            continue\n",
    "        break\n",
    "        \n",
    "n = int(input(\"정수값 입력 : \"))\n",
    "recur(n)"
   ]
  },
  {
   "cell_type": "code",
   "execution_count": null,
   "metadata": {},
   "outputs": [],
   "source": []
  }
 ],
 "metadata": {
  "kernelspec": {
   "display_name": "Python 3",
   "language": "python",
   "name": "python3"
  },
  "language_info": {
   "codemirror_mode": {
    "name": "ipython",
    "version": 3
   },
   "file_extension": ".py",
   "mimetype": "text/x-python",
   "name": "python",
   "nbconvert_exporter": "python",
   "pygments_lexer": "ipython3",
   "version": "3.8.3"
  }
 },
 "nbformat": 4,
 "nbformat_minor": 4
}
