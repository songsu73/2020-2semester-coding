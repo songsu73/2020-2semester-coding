{
 "cells": [
  {
   "cell_type": "code",
   "execution_count": 3,
   "metadata": {},
   "outputs": [
    {
     "name": "stdout",
     "output_type": "stream",
     "text": [
      " 0 0 0 0 0 0 0 0\n",
      " 0 0 0 0 0 0 0 1\n",
      " 0 0 0 0 0 0 0 2\n",
      " 0 0 0 0 0 0 0 3\n",
      " 0 0 0 0 0 0 0 4\n",
      " 0 0 0 0 0 0 0 5\n",
      " 0 0 0 0 0 0 0 6\n",
      " 0 0 0 0 0 0 0 7\n",
      " 0 0 0 0 0 0 1 0\n",
      " 0 0 0 0 0 0 1 1\n",
      " 0 0 0 0 0 0 1 2\n",
      " 0 0 0 0 0 0 1 3\n",
      " 0 0 0 0 0 0 1 4\n",
      " 0 0 0 0 0 0 1 5\n",
      " 0 0 0 0 0 0 1 6\n",
      " 0 0 0 0 0 0 1 7\n",
      " 0 0 0 0 0 0 2 0\n",
      " 0 0 0 0 0 0 2 1\n",
      " 0 0 0 0 0 0 2 2\n",
      " 0 0 0 0 0 0 2 3\n",
      " 0 0 0 0 0 0 2 4\n",
      " 0 0 0 0 0 0 2 5\n",
      " 0 0 0 0 0 0 2 6\n",
      " 0 0 0 0 0 0 2 7\n",
      " 0 0 0 0 0 0 3 0\n",
      " 0 0 0 0 0 0 3 1\n",
      " 0 0 0 0 0 0 3 2\n",
      " 0 0 0 0 0 0 3 3\n",
      " 0 0 0 0 0 0 3 4\n",
      " 0 0 0 0 0 0 3 5\n",
      " 0 0 0 0 0 0 3 6\n",
      " 0 0 0 0 0 0 3 7\n",
      " 0 0 0 0 0 0 4 0\n",
      " 0 0 0 0 0 0 4 1\n",
      " 0 0 0 0 0 0 4 2\n",
      " 0 0 0 0 0 0 4 3\n",
      " 0 0 0 0 0 0 4 4\n",
      " 0 0 0 0 0 0 4 5\n",
      " 0 0 0 0 0 0 4 6\n",
      " 0 0 0 0 0 0 4 7\n",
      " 0 0 0 0 0 0 5 0\n",
      " 0 0 0 0 0 0 5 1\n",
      " 0 0 0 0 0 0 5 2\n",
      " 0 0 0 0 0 0 5 3\n",
      " 0 0 0 0 0 0 5 4\n",
      " 0 0 0 0 0 0 5 5\n",
      " 0 0 0 0 0 0 5 6\n",
      " 0 0 0 0 0 0 5 7\n",
      " 0 0 0 0 0 0 6 0\n",
      " 0 0 0 0 0 0 6 1\n",
      " 0 0 0 0 0 0 6 2\n",
      " 0 0 0 0 0 0 6 3\n",
      " 0 0 0 0 0 0 6 4\n",
      " 0 0 0 0 0 0 6 5\n",
      " 0 0 0 0 0 0 6 6\n",
      " 0 0 0 0 0 0 6 7\n",
      " 0 0 0 0 0 0 7 0\n",
      " 0 0 0 0 0 0 7 1\n",
      " 0 0 0 0 0 0 7 2\n",
      " 0 0 0 0 0 0 7 3\n",
      " 0 0 0 0 0 0 7 4\n",
      " 0 0 0 0 0 0 7 5\n",
      " 0 0 0 0 0 0 7 6\n",
      " 0 0 0 0 0 0 7 7\n"
     ]
    }
   ],
   "source": [
    "pos = [0] * 8  \n",
    "\n",
    "def put() -> None :\n",
    "    for i in range(8):\n",
    "        print(f'{pos[i]:2}', end='')\n",
    "    print()\n",
    "\n",
    "def set(i: int) -> None:\n",
    "    for j in range(8):\n",
    "        pos[i] = j  \n",
    "        if i == 7 :  \n",
    "            put()\n",
    "        else:\n",
    "            set(i + 1)  \n",
    "set(6) #set(0)을 하면 모든 경우의 수 출력, 너무 길어지므로 set(6)으로 생략"
   ]
  },
  {
   "cell_type": "code",
   "execution_count": null,
   "metadata": {},
   "outputs": [],
   "source": []
  }
 ],
 "metadata": {
  "kernelspec": {
   "display_name": "Python 3",
   "language": "python",
   "name": "python3"
  },
  "language_info": {
   "codemirror_mode": {
    "name": "ipython",
    "version": 3
   },
   "file_extension": ".py",
   "mimetype": "text/x-python",
   "name": "python",
   "nbconvert_exporter": "python",
   "pygments_lexer": "ipython3",
   "version": "3.8.3"
  }
 },
 "nbformat": 4,
 "nbformat_minor": 4
}
