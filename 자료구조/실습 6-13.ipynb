{
 "cells": [
  {
   "cell_type": "code",
   "execution_count": 2,
   "metadata": {},
   "outputs": [
    {
     "name": "stdout",
     "output_type": "stream",
     "text": [
      "퀵 정렬을 합니다(원소 수가 9개 미만이면 단순 삽입 정렬).\n",
      "원소 수를 입력하세요.: 8\n",
      "x[0]: 8\n",
      "x[1]: 7\n",
      "x[2]: 6\n",
      "x[3]: 5\n",
      "x[4]: 2\n",
      "x[5]: 1\n",
      "x[6]: 0\n",
      "x[7]: 8\n",
      "오름차순으로 정렬했습니다.\n",
      "x[0] = 0\n",
      "x[1] = 1\n",
      "x[2] = 2\n",
      "x[3] = 5\n",
      "x[4] = 6\n",
      "x[5] = 7\n",
      "x[6] = 8\n",
      "x[7] = 8\n"
     ]
    }
   ],
   "source": [
    "from typing import MutableSequence\n",
    "\n",
    "def sort3(a: MutableSequence, idx1: int, idx2: int, idx3: int):\n",
    "    if a[idx2] < a[idx1]: a[idx2], a[idx1] = a[idx1], a[idx2]\n",
    "    if a[idx3] < a[idx2]: a[idx3], a[idx2] = a[idx2], a[idx3]\n",
    "    if a[idx2] < a[idx1]: a[idx2], a[idx1] = a[idx1], a[idx2]\n",
    "    return idx2\n",
    "\n",
    "def insertion_sort(a: MutableSequence, left: int, right: int) -> None: ##원소수가 9개 이하일때 사용하는 단순 삽입 정렬\n",
    "    for i in range(left + 1, right + 1): ## i는 1부터 right값까지 (첫번째 원소부터 단순 삽입정렬을 시작하기 위해서)\n",
    "        j = i\n",
    "        tmp = a[i]\n",
    "        while j > 0 and a[j - 1] > tmp: ##단순 삽입 작업하는 반복문, 하나씩 대입하는 작업을 반복\n",
    "            a[j] = a[j - 1]\n",
    "            j -= 1\n",
    "        a[j] = tmp\n",
    "\n",
    "def qsort(a: MutableSequence, left: int, right: int) -> None:\n",
    "    if right - left < 9:            # 원소 수가 9개 미만이면 단순 삽입 정렬을 호출\n",
    "        insertion_sort(a, left, right)\n",
    "    else:                           # 원소 수가 9개 이상이면 퀵 정렬을 수행\n",
    "        pl = left                   # 왼쪽 커서\n",
    "        pr = right                  # 오른쪽 커서\n",
    "        m = sort3(a, pl, (pl + pr) // 2, pr) ##sort3 함수를 사용하여 피벗값을 구함\n",
    "        x = a[m] ##피벗값의 배열원소값\n",
    "\n",
    "        a[m], a[pr - 1] = a[pr - 1], a[m]\n",
    "        pl += 1\n",
    "        pr -= 2 ##위의 방법을 사용하여 피벗값을 결정하면 그룹이 한쪽으로 치우치는것을 방지하고 스캔할 원소를 3개 줄일 수 있음\n",
    "        while pl <= pr:\n",
    "            while a[pl] < x: pl += 1\n",
    "            while a[pr] > x: pr -= 1\n",
    "            if pl <= pr:\n",
    "                a[pl], a[pr] = a[pr], a[pl]\n",
    "                pl += 1\n",
    "                pr -= 1\n",
    "\n",
    "        if left < pr: qsort(a, left, pr) ##재귀호출을 이용하여 퀵정렬 완성\n",
    "        if pl < right: qsort(a, pl, right)\n",
    "\n",
    "\n",
    "if __name__ == '__main__':\n",
    "    print('퀵 정렬을 합니다(원소 수가 9개 미만이면 단순 삽입 정렬).')\n",
    "    num = int(input('원소 수를 입력하세요.: '))\n",
    "    x = [None] * num    # 원소 수가 num인 배열을 생성\n",
    "\n",
    "    for i in range(num):\n",
    "        x[i] = int(input(f'x[{i}]: '))\n",
    "\n",
    "    qsort(x,0,len(x)-1)       # 배열 x를 퀵 정렬\n",
    "\n",
    "    print('오름차순으로 정렬했습니다.')\n",
    "    for i in range(num):\n",
    "        print(f'x[{i}] = {x[i]}')"
   ]
  },
  {
   "cell_type": "code",
   "execution_count": null,
   "metadata": {},
   "outputs": [],
   "source": []
  }
 ],
 "metadata": {
  "kernelspec": {
   "display_name": "Python 3",
   "language": "python",
   "name": "python3"
  },
  "language_info": {
   "codemirror_mode": {
    "name": "ipython",
    "version": 3
   },
   "file_extension": ".py",
   "mimetype": "text/x-python",
   "name": "python",
   "nbconvert_exporter": "python",
   "pygments_lexer": "ipython3",
   "version": "3.8.3"
  }
 },
 "nbformat": 4,
 "nbformat_minor": 4
}
