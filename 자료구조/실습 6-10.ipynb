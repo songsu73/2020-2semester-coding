{
 "cells": [
  {
   "cell_type": "markdown",
   "metadata": {},
   "source": [
    "# 실습 6-10"
   ]
  },
  {
   "cell_type": "code",
   "execution_count": 1,
   "metadata": {},
   "outputs": [
    {
     "name": "stdout",
     "output_type": "stream",
     "text": [
      "배열을 나눕니다.\n",
      "원소 수를 입력하세요.: 7\n",
      "x[0]: 8\n",
      "x[1]: 7\n",
      "x[2]: 6\n",
      "x[3]: 4\n",
      "x[4]: 3\n",
      "x[5]: 2\n",
      "x[6]: 1\n",
      "피벗은 4입니다.\n",
      "피벗 이하인 그룹입니다.\n",
      "1 2 3 4\n",
      "피벗과 일치하는 그룹입니다.\n",
      "4\n",
      "피벗 이상인 그룹입니다.\n",
      "4 6 7 8\n"
     ]
    }
   ],
   "source": [
    "from typing import MutableSequence\n",
    "\n",
    "def partition(a: MutableSequence) -> None:\n",
    "\n",
    "    n = len(a)\n",
    "    pl = 0         #피벗의 left\n",
    "    pr = n - 1     #피벗의 right\n",
    "    x = a[n // 2]  #배열의 피벗 (가운데)\n",
    "\n",
    "    while pl <= pr: # 그룹을 나누기 위한 반복문\n",
    "        while a[pl] < x: pl += 1 ## 피벗보다 큰값을 찾음\n",
    "        while a[pr] > x: pr -= 1 ## 피벗보다 작은값을 찾음 ->  값을 교환할 조건을 찾아내는 과정\n",
    "        if pl <= pr: ## pl커서가 가리키는 원소와 pr커서가 가리키는 원소를 교환\n",
    "            a[pl], a[pr] = a[pr], a[pl]\n",
    "            pl += 1\n",
    "            pr -= 1\n",
    "\n",
    "    print(f'피벗은 {x}입니다.')\n",
    "\n",
    "    print('피벗 이하인 그룹입니다.')\n",
    "    print(*a[0 : pl]) ## a[0]부터 pl커서까지 (+1과정을 반복하면서 피벗 이하까지 가리킴)          \n",
    "\n",
    "    if pl > pr + 1:\n",
    "        print('피벗과 일치하는 그룹입니다.')\n",
    "        print(*a[pr + 1 : pl])   ##피벗과 일치하는 값을 가진 그룹이 생성돨 조건이므로 일치하는 그룹 출략\n",
    "\n",
    "    print('피벗 이상인 그룹입니다.')\n",
    "    print(*a[pr + 1 : n])       ##피벗보다 큰 그룹 pr은 피벗데이터를 가리키므로 pr+1\n",
    "\n",
    "if __name__ == '__main__':\n",
    "    print('배열을 나눕니다.')\n",
    "    num = int(input('원소 수를 입력하세요.: '))\n",
    "    x = [None] * num    \n",
    "\n",
    "    for i in range(num):\n",
    "        x[i] = int(input(f'x[{i}]: '))\n",
    "\n",
    "    partition(x)         "
   ]
  },
  {
   "cell_type": "code",
   "execution_count": null,
   "metadata": {},
   "outputs": [],
   "source": []
  }
 ],
 "metadata": {
  "kernelspec": {
   "display_name": "Python 3",
   "language": "python",
   "name": "python3"
  },
  "language_info": {
   "codemirror_mode": {
    "name": "ipython",
    "version": 3
   },
   "file_extension": ".py",
   "mimetype": "text/x-python",
   "name": "python",
   "nbconvert_exporter": "python",
   "pygments_lexer": "ipython3",
   "version": "3.8.3"
  }
 },
 "nbformat": 4,
 "nbformat_minor": 4
}
