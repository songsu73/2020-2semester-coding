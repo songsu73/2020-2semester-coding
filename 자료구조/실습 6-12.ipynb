{
 "cells": [
  {
   "cell_type": "code",
   "execution_count": 2,
   "metadata": {},
   "outputs": [
    {
     "name": "stdout",
     "output_type": "stream",
     "text": [
      "비재귀적인 퀵 정렬\n",
      "원소 수를 입력하세요.: 8\n",
      "x[0]: 8\n",
      "x[1]: 7\n",
      "x[2]: 6\n",
      "x[3]: 5\n",
      "x[4]: 4\n",
      "x[5]: 3\n",
      "x[6]: 2\n",
      "x[7]: 1\n",
      "오름차순으로 정렬했습니다.\n",
      "x[0] = 1\n",
      "x[1] = 2\n",
      "x[2] = 3\n",
      "x[3] = 4\n",
      "x[4] = 5\n",
      "x[5] = 6\n",
      "x[6] = 7\n",
      "x[7] = 8\n"
     ]
    }
   ],
   "source": [
    "from stack import Stack  \n",
    "from typing import MutableSequence\n",
    "\n",
    "def qsort(a: MutableSequence, left: int, right: int) -> None:\n",
    "    range = Stack(right - left + 1)  # import한 스택을 이용하여 스택 생성\n",
    "\n",
    "    range.push((left, right)) ##생성한 스택에 원소들을 푸시\n",
    "\n",
    "    while not range.is_empty(): ## 반복문 끝의 if에서 push를 하지 않아야 반복문이 종료되고 정렬이 완료\n",
    "        pl, pr = left, right = range.pop()  ## pl과 pr을  range스택에서 팝한 원소들로 사용\n",
    "        x = a[(left + right) // 2]          ##피벗값 도출\n",
    "\n",
    "        while pl <= pr: ##푸시하여 스택에 넣은 원소들의 위치를 바꿔준다\n",
    "            while a[pl] < x: pl += 1\n",
    "            while a[pr] > x: pr -= 1\n",
    "            if pl <= pr:                        \n",
    "                a[pl], a[pr] = a[pr], a[pl]\n",
    "                pl += 1\n",
    "                pr -= 1\n",
    "\n",
    "        if left < pr: range.push((left, pr))     #원소가 교체해야할 원소라면 푸시를 하여 교환할 수 있도록 함\n",
    "        if pl < right: range.push((pl, right))  #원소가 교체해야할 원소라면 푸시를 하여 교환할 수 있도록 함 (range가 비지 않아서 반복문 작동)\n",
    "\n",
    "def quick_sort(a: MutableSequence) -> None:\n",
    "    qsort(a, 0, len(a) - 1)\n",
    "    \n",
    "if __name__ == '__main__':\n",
    "    print('비재귀적인 퀵 정렬')\n",
    "    num = int(input('원소 수를 입력하세요.: '))\n",
    "    x = [None] * num   \n",
    "\n",
    "    for i in range(num):\n",
    "        x[i] = int(input(f'x[{i}]: '))\n",
    "\n",
    "    qsort(x,0,len(x)-1)     \n",
    "\n",
    "    print('오름차순으로 정렬했습니다.')\n",
    "    for i in range(num):\n",
    "        print(f'x[{i}] = {x[i]}')"
   ]
  },
  {
   "cell_type": "code",
   "execution_count": null,
   "metadata": {},
   "outputs": [],
   "source": []
  }
 ],
 "metadata": {
  "kernelspec": {
   "display_name": "Python 3",
   "language": "python",
   "name": "python3"
  },
  "language_info": {
   "codemirror_mode": {
    "name": "ipython",
    "version": 3
   },
   "file_extension": ".py",
   "mimetype": "text/x-python",
   "name": "python",
   "nbconvert_exporter": "python",
   "pygments_lexer": "ipython3",
   "version": "3.8.3"
  }
 },
 "nbformat": 4,
 "nbformat_minor": 4
}
