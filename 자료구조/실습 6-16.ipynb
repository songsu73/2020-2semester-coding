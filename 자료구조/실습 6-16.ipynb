{
 "cells": [
  {
   "cell_type": "code",
   "execution_count": 1,
   "metadata": {},
   "outputs": [
    {
     "name": "stdout",
     "output_type": "stream",
     "text": [
      "힙 정렬을 수행합니다.\n",
      "원소 수를 입력하세요. : 8\n",
      "x[0] : 8\n",
      "x[1] : 7\n",
      "x[2] : 6\n",
      "x[3] : 5\n",
      "x[4] : 3\n",
      "x[5] : 2\n",
      "x[6] : 1\n",
      "x[7] : 9\n",
      "오름차순으로 정렬했습니다.\n",
      "x[0] = 1\n",
      "x[1] = 2\n",
      "x[2] = 3\n",
      "x[3] = 5\n",
      "x[4] = 6\n",
      "x[5] = 7\n",
      "x[6] = 8\n",
      "x[7] = 9\n"
     ]
    }
   ],
   "source": [
    "from typing import MutableSequence\n",
    "\n",
    "def heap_sort(a: MutableSequence) -> None:\n",
    "\n",
    "    def down_heap(a: MutableSequence, left: int, right: int) -> None:\n",
    "        temp = a[left]      # 루트\n",
    "\n",
    "        parent = left\n",
    "        while parent < (right + 1) // 2:\n",
    "            cl = parent * 2 + 1     # 왼쪽 자식\n",
    "            cr = cl + 1             # 오른쪽 자식\n",
    "            child = cr if cr <= right and a[cr] > a[cl] else cl  # 큰 값을 선택합니다.\n",
    "            if temp >= a[child]: # 루트가 이미 자식노드보다 큰 값이 되어있는경우 반복문 종료\n",
    "                break\n",
    "            a[parent] = a[child] # 큰값으로 루트를 설정\n",
    "            parent = child\n",
    "        a[parent] = temp\n",
    "\n",
    "    n = len(a)\n",
    "\n",
    "    for i in range((n - 1) // 2, -1, -1):   # a[i] ~ a[n-1]을 힙으로 만들기\n",
    "        down_heap(a, i, n - 1) \n",
    "\n",
    "    for i in range(n - 1, 0, -1):\n",
    "        a[0], a[i] = a[i], a[0]     # 최댓값인 a[0]과 마지막 원소 a[i]를 교환\n",
    "        down_heap(a, 0, i - 1)      # a[0] ~ a[i-1]을 힙으로 만들기\n",
    "\n",
    "if __name__ == '__main__':\n",
    "    print('힙 정렬을 수행합니다.')\n",
    "    num = int(input('원소 수를 입력하세요. : '))\n",
    "    x = [None] * num    # 원소 수가 num인 배열을 생성\n",
    "\n",
    "    for i in range(num):\n",
    "        x[i] = int(input(f'x[{i}] : '))\n",
    "\n",
    "    heap_sort(x)        # 배열 x를 힙 정렬\n",
    "\n",
    "    print('오름차순으로 정렬했습니다.')\n",
    "    for i in range(num):\n",
    "        print(f'x[{i}] = {x[i]}')"
   ]
  },
  {
   "cell_type": "code",
   "execution_count": null,
   "metadata": {},
   "outputs": [],
   "source": []
  }
 ],
 "metadata": {
  "kernelspec": {
   "display_name": "Python 3",
   "language": "python",
   "name": "python3"
  },
  "language_info": {
   "codemirror_mode": {
    "name": "ipython",
    "version": 3
   },
   "file_extension": ".py",
   "mimetype": "text/x-python",
   "name": "python",
   "nbconvert_exporter": "python",
   "pygments_lexer": "ipython3",
   "version": "3.8.3"
  }
 },
 "nbformat": 4,
 "nbformat_minor": 4
}
