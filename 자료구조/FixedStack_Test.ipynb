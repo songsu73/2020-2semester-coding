{
 "cells": [
  {
   "cell_type": "markdown",
   "metadata": {},
   "source": [
    "## Stack 구현 실습 (FixedSize Stack)"
   ]
  },
  {
   "cell_type": "code",
   "execution_count": null,
   "metadata": {},
   "outputs": [],
   "source": [
    "from typing import Any"
   ]
  },
  {
   "cell_type": "code",
   "execution_count": null,
   "metadata": {},
   "outputs": [],
   "source": [
    "class FixedStack:\n",
    "    \"\"\"고정 길이 스택 클래스\"\"\"\n",
    "    \n",
    "    class Empty(Exception):\n",
    "        \"\"\"비어 있는 FixedStack에 pop 또는 peek를 호출할 때 내보내는 예외 처리\"\"\"\n",
    "        pass\n",
    "\n",
    "    class Full(Exception):\n",
    "        \"\"\"가득 찬 FixedStack에 push를 호출할 때 내보내는 예외 처리\"\"\"\n",
    "        pass\n",
    "\n",
    "    def __init__(self, capacity: int = 256) -> None:\n",
    "        \"\"\"초기화\"\"\"\n",
    "        self.stk = [None] * capacity  # capacity 만큼의 스택 본체 생성\n",
    "        self.capacity = capacity      # capacity = 스택의 크기\n",
    "        self.ptr = 0                  # ptr = 스택 포인터\n",
    "\n",
    "    def __len__(self) -> int:\n",
    "        \"\"\"스택에 쌓여있는 데이터 개수를 반환\"\"\"\n",
    "        return self.ptr\n",
    "\n",
    "    def is_empty(self) -> bool:\n",
    "        \"\"\"스택이 비어 있는가?\"\"\"\n",
    "        return self.ptr <= 0               # 예기치 못한 오류가 발생(0보다 작은 index 값이 입력으로 들어올 경우)할 경우를 대비해서 <=\n",
    "\n",
    "    def is_full(self) -> bool:\n",
    "        \"\"\"스택은 가득 찼는가?\"\"\"\n",
    "        return self.ptr >= self.capacity   # 예기치 못한 오류가 발생(capacity보다 큰 index값이 입력으로 들어올)할 경우를 대비해서 >= \n",
    "    \n",
    "    def push(self, value: Any) -> None:\n",
    "        \"\"\"스택에 value를 푸시\"\"\"\n",
    "        if self.is_full():              # 스택이 가득 참\n",
    "            raise FixedStack.Full\n",
    "        self.stk[self.ptr] = value  # 1   가정 (ptr - 1 == top)\n",
    "        self.ptr += 1               # 2\n",
    "        \n",
    "    def pop(self) -> Any:\n",
    "        \"\"\"스택에서 데이터를 팝(꼭대기(top) 데이터를 꺼냄)\"\"\"\n",
    "        if self.is_empty():             # 스택이 비어 있음\n",
    "             raise FixedStack.Empty\n",
    "        self.ptr -= 1               # 1  가정 (ptr - 1 == top)\n",
    "        return self.stk[self.ptr]  # 2\n",
    "    \n",
    "    def peek(self) -> Any:\n",
    "        \"\"\"스택에서 데이터를 피크(꼭대기(top) 데이터를 들여다 봄)\"\"\"\n",
    "        if self.is_empty():             # 스택이 비어 있음\n",
    "            raise FixedStack.Empty\n",
    "        return self.stk[self.ptr - 1]   # top을 반환\n",
    "    \n",
    "    def find(self, value: Any) -> Any:\n",
    "        \"\"\"스택에서 value를 찾아 첨자(없으면 -1)를 반환\"\"\"\n",
    "        for i in range(self.ptr - 1, -1, -1):  # top부터 bottom까지 선형 검색\n",
    "            if self.stk[i] == value:\n",
    "                return i  # 검색 성공\n",
    "        return -1         # 검색 실패\n",
    "    \n",
    "    def count(self, value: Any) -> bool:\n",
    "        \"\"\"스택에 포함되어있는 value의 개수를 반환\"\"\"\n",
    "        c = 0\n",
    "        for i in range(self.ptr):  # bottom 쪽부터 선형 검색\n",
    "            if self.stk[i] == value:\n",
    "                c += 1             # 들어 있음\n",
    "        return c\n",
    "    \n",
    "    def __contains__(self, value: Any) -> bool:\n",
    "        \"\"\"스택에 value가 있는가?\"\"\"\n",
    "        return self.count(value)\n",
    "    \n",
    "    def dump(self) -> None:\n",
    "        \"\"\"덤프(스택 안의 모든 데이터를 bottom부터 top 순으로 출력)\"\"\"\n",
    "        if self.is_empty():  # 스택이 비어 있음\n",
    "            print('스택이 비어 있습니다.')\n",
    "        else:\n",
    "            print(self.stk[:self.ptr])"
   ]
  },
  {
   "cell_type": "code",
   "execution_count": null,
   "metadata": {},
   "outputs": [],
   "source": [
    "from enum import Enum\n",
    "from fixed_stack import FixedStack"
   ]
  },
  {
   "cell_type": "code",
   "execution_count": null,
   "metadata": {},
   "outputs": [],
   "source": [
    "Menu = Enum('Menu', ['푸시', '팝', '피크', '검색', '덤프', '종료'])\n",
    "#'푸시'  (1), '팝'  (2), '피크'  (3), '검색'  (4), '덤프' (5), '종료'   (6)])"
   ]
  },
  {
   "cell_type": "code",
   "execution_count": null,
   "metadata": {},
   "outputs": [],
   "source": [
    "def select_menu() -> Menu:\n",
    "    \"\"\"메뉴 선택\"\"\"\n",
    "    s = [f'({m.value}){m.name}' for m in Menu]\n",
    "    while True:\n",
    "        print(*s, sep = '   ', end='')\n",
    "        n = int(input(': '))\n",
    "        if 1 <= n <= len(Menu):\n",
    "            return Menu(n)"
   ]
  },
  {
   "cell_type": "code",
   "execution_count": null,
   "metadata": {},
   "outputs": [],
   "source": [
    "s = FixedStack(64)  # 최대 64개를 push할 수 있는 스택"
   ]
  },
  {
   "cell_type": "code",
   "execution_count": null,
   "metadata": {},
   "outputs": [],
   "source": [
    "while True:\n",
    "    print(f'현재 데이터 개수: {len(s)} / {s.capacity}')\n",
    "    menu = select_menu()  # 메뉴 선택\n",
    "    \n",
    "    if menu == Menu.푸시:  # 푸시 \n",
    "        x = int(input('데이터를 입력하세요.: '))\n",
    "        try:\n",
    "            s.push(x)\n",
    "        except FixedStack.Full:\n",
    "            print('스택이 가득 차 있습니다.')\n",
    "\n",
    "    elif menu == Menu.팝:  # 팝\n",
    "        try:\n",
    "            x = s.pop()\n",
    "            print(f'팝한 데이터는 {x}입니다.')\n",
    "        except FixedStack.Empty:\n",
    "            print('스택이 비어 있습니다.')\n",
    "\n",
    "    elif menu == Menu.피크:  # 피크\n",
    "        try:\n",
    "            x = s.peek()\n",
    "            print(f'피크한 데이터는 {x}입니다.')\n",
    "        except FixedStack.Empty:\n",
    "            print('스택이 비어 있습니다.')\n",
    "\n",
    "    elif menu == Menu.검색:  # 검색\n",
    "        x = int(input('검색할 값을 입력하세요.: '))\n",
    "        if x in s:\n",
    "            print(f'{s.count(x)}개 포함되고, 맨 앞의 위치는 {s.find(x)}입니다.')\n",
    "        else:\n",
    "            print('검색값을 찾을 수 없습니다.')\n",
    "\n",
    "    elif menu == Menu.덤프:  # 덤프\n",
    "        s.dump()\n",
    "\n",
    "    else:\n",
    "        break\n",
    "    # 1->2->3->1->5"
   ]
  },
  {
   "cell_type": "code",
   "execution_count": null,
   "metadata": {},
   "outputs": [],
   "source": []
  }
 ],
 "metadata": {
  "kernelspec": {
   "display_name": "Python 3",
   "language": "python",
   "name": "python3"
  },
  "language_info": {
   "codemirror_mode": {
    "name": "ipython",
    "version": 3
   },
   "file_extension": ".py",
   "mimetype": "text/x-python",
   "name": "python",
   "nbconvert_exporter": "python",
   "pygments_lexer": "ipython3",
   "version": "3.8.3"
  }
 },
 "nbformat": 4,
 "nbformat_minor": 4
}
