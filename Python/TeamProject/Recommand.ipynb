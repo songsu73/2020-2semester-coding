{
 "cells": [
  {
   "cell_type": "code",
   "execution_count": 62,
   "metadata": {},
   "outputs": [
    {
     "name": "stderr",
     "output_type": "stream",
     "text": [
      "C:\\ProgramData\\Anaconda3\\lib\\site-packages\\IPython\\core\\interactiveshell.py:3071: DtypeWarning: Columns (10) have mixed types.Specify dtype option on import or set low_memory=False.\n",
      "  has_raised = await self.run_ast_nodes(code_ast.body, cell_name,\n"
     ]
    }
   ],
   "source": [
    "%matplotlib inline\n",
    "import pandas as pd\n",
    "import numpy as np\n",
    "import matplotlib.pyplot as plt\n",
    "from numpy.linalg import norm\n",
    "from sklearn.feature_extraction.text import TfidfVectorizer\n",
    "#코사인 유사도 함수\n",
    "def cos_sim2(X,Y):\n",
    "    return np.dot(X,Y)/((norm(X)*norm(Y))+1e-7) #분모가 0이됨을 방지하는 +1e-7\n",
    "#영화 추천 함수의 설계\n",
    "def recommand(data, name, rank=5):\n",
    "    sim=[]\n",
    "    for i in range(len(data)):\n",
    "        if name != i:\n",
    "            sim.append((cos_sim2(data[i],data[name]),i))\n",
    "    sim.sort()\n",
    "    sim.reverse()\n",
    "    return sim[:rank]\n",
    "\n",
    "data=pd.read_csv(\"movies_metadata.csv\",encoding=\"UTF-8\")\n",
    "data=data.head(2000)\n",
    "data['overview'].isnull().sum() #누락값 개수 확인\n",
    "data['overview']=data['overview'].fillna('') # 누락값 처리\n",
    "data['overview'].isnull().sum() # 누락값 개수가 0이 될것임\n",
    "tfidf=TfidfVectorizer(stop_words='english') #TF-IDF행렬 생성, english 불용어 제거\n",
    "tfidf_mat=tfidf.fit_transform(data['overview']).toarray() # TF-IDF를 array로 바꾸어서 함수를 적용할수있도록 변경"
   ]
  },
  {
   "cell_type": "code",
   "execution_count": 63,
   "metadata": {},
   "outputs": [
    {
     "name": "stdout",
     "output_type": "stream",
     "text": [
      "영화 제목을 입력해주세요 : Jumanji\n"
     ]
    },
    {
     "data": {
      "text/plain": [
       "[(0.13171053324740967, 'The Innocent Sleep'),\n",
       " (0.1280117745753078, 'Sudden Death'),\n",
       " (0.11387159214028014, 'Maverick'),\n",
       " (0.11141480787710059, 'BASEketball'),\n",
       " (0.10535682621826187, 'D3: The Mighty Ducks'),\n",
       " (0.09237886348300096, 'Peter Pan'),\n",
       " (0.09180597815598728, 'The Man Who Knew Too Little'),\n",
       " (0.08749623039617353, 'Picnic'),\n",
       " (0.08306199382349999, \"The 'Burbs\"),\n",
       " (0.08098635647065179, 'Shopping')]"
      ]
     },
     "execution_count": 63,
     "metadata": {},
     "output_type": "execute_result"
    }
   ],
   "source": [
    "# 영화 추천 알고리즘의 실행단계 ( 인덱스 0인 토이스토리를 중심으로 작동)\n",
    "#for sim, movie_id in top_match_ar2(tfidf_mat,0,10):\n",
    "#    movieList.append((sim, data.loc[movie_id,'title']))\n",
    "#movieList[:10]\n",
    "\n",
    "## 각 영화 인덱스를 나타내는 index열을 추가\n",
    "series = pd.Series(data.index, index = data['title']).drop_duplicates()\n",
    "movieList = [] \n",
    "#input으로 index 결정\n",
    "x = input('영화 제목을 입력해주세요 : ')\n",
    "index = series[x]\n",
    "for sim, movie_id in top_match_ar2(tfidf_mat,index,10):\n",
    "    movieList.append((sim, data.loc[movie_id,'title']))\n",
    "movieList[:10]"
   ]
  },
  {
   "cell_type": "code",
   "execution_count": 64,
   "metadata": {},
   "outputs": [],
   "source": [
    "a = pd.DataFrame(movieList[:10])"
   ]
  },
  {
   "cell_type": "code",
   "execution_count": 65,
   "metadata": {},
   "outputs": [
    {
     "name": "stdout",
     "output_type": "stream",
     "text": [
      "          0                            1\n",
      "0  0.131711           The Innocent Sleep\n",
      "1  0.128012                 Sudden Death\n",
      "2  0.113872                     Maverick\n",
      "3  0.111415                  BASEketball\n",
      "4  0.105357         D3: The Mighty Ducks\n",
      "5  0.092379                    Peter Pan\n",
      "6  0.091806  The Man Who Knew Too Little\n",
      "7  0.087496                       Picnic\n",
      "8  0.083062                   The 'Burbs\n",
      "9  0.080986                     Shopping\n"
     ]
    }
   ],
   "source": [
    "print(a)"
   ]
  },
  {
   "cell_type": "code",
   "execution_count": 66,
   "metadata": {},
   "outputs": [
    {
     "name": "stdout",
     "output_type": "stream",
     "text": [
      "        cos                        title\n",
      "0  0.131711           The Innocent Sleep\n",
      "1  0.128012                 Sudden Death\n",
      "2  0.113872                     Maverick\n",
      "3  0.111415                  BASEketball\n",
      "4  0.105357         D3: The Mighty Ducks\n",
      "5  0.092379                    Peter Pan\n",
      "6  0.091806  The Man Who Knew Too Little\n",
      "7  0.087496                       Picnic\n",
      "8  0.083062                   The 'Burbs\n",
      "9  0.080986                     Shopping\n"
     ]
    }
   ],
   "source": [
    "a.columns = ['cos','title']\n",
    "print(a)"
   ]
  },
  {
   "cell_type": "code",
   "execution_count": 68,
   "metadata": {},
   "outputs": [
    {
     "data": {
      "text/html": [
       "<div>\n",
       "<style scoped>\n",
       "    .dataframe tbody tr th:only-of-type {\n",
       "        vertical-align: middle;\n",
       "    }\n",
       "\n",
       "    .dataframe tbody tr th {\n",
       "        vertical-align: top;\n",
       "    }\n",
       "\n",
       "    .dataframe thead th {\n",
       "        text-align: right;\n",
       "    }\n",
       "</style>\n",
       "<table border=\"1\" class=\"dataframe\">\n",
       "  <thead>\n",
       "    <tr style=\"text-align: right;\">\n",
       "      <th></th>\n",
       "      <th>cos</th>\n",
       "      <th>title</th>\n",
       "      <th>adult</th>\n",
       "      <th>belongs_to_collection</th>\n",
       "      <th>budget</th>\n",
       "      <th>genres</th>\n",
       "      <th>homepage</th>\n",
       "      <th>id</th>\n",
       "      <th>imdb_id</th>\n",
       "      <th>original_language</th>\n",
       "      <th>...</th>\n",
       "      <th>production_countries</th>\n",
       "      <th>release_date</th>\n",
       "      <th>revenue</th>\n",
       "      <th>runtime</th>\n",
       "      <th>spoken_languages</th>\n",
       "      <th>status</th>\n",
       "      <th>tagline</th>\n",
       "      <th>video</th>\n",
       "      <th>vote_average</th>\n",
       "      <th>vote_count</th>\n",
       "    </tr>\n",
       "  </thead>\n",
       "  <tbody>\n",
       "    <tr>\n",
       "      <th>0</th>\n",
       "      <td>0.131711</td>\n",
       "      <td>The Innocent Sleep</td>\n",
       "      <td>False</td>\n",
       "      <td>NaN</td>\n",
       "      <td>0</td>\n",
       "      <td>[{'id': 53, 'name': 'Thriller'}]</td>\n",
       "      <td>NaN</td>\n",
       "      <td>249358</td>\n",
       "      <td>tt0113425</td>\n",
       "      <td>fr</td>\n",
       "      <td>...</td>\n",
       "      <td>[{'iso_3166_1': 'GB', 'name': 'United Kingdom'}]</td>\n",
       "      <td>1996-01-25</td>\n",
       "      <td>0.0</td>\n",
       "      <td>110.0</td>\n",
       "      <td>[{'iso_639_1': 'en', 'name': 'English'}]</td>\n",
       "      <td>Released</td>\n",
       "      <td>NaN</td>\n",
       "      <td>False</td>\n",
       "      <td>0.0</td>\n",
       "      <td>0.0</td>\n",
       "    </tr>\n",
       "    <tr>\n",
       "      <th>1</th>\n",
       "      <td>0.128012</td>\n",
       "      <td>Sudden Death</td>\n",
       "      <td>False</td>\n",
       "      <td>NaN</td>\n",
       "      <td>35000000</td>\n",
       "      <td>[{'id': 28, 'name': 'Action'}, {'id': 12, 'nam...</td>\n",
       "      <td>NaN</td>\n",
       "      <td>9091</td>\n",
       "      <td>tt0114576</td>\n",
       "      <td>en</td>\n",
       "      <td>...</td>\n",
       "      <td>[{'iso_3166_1': 'US', 'name': 'United States o...</td>\n",
       "      <td>1995-12-22</td>\n",
       "      <td>64350171.0</td>\n",
       "      <td>106.0</td>\n",
       "      <td>[{'iso_639_1': 'en', 'name': 'English'}]</td>\n",
       "      <td>Released</td>\n",
       "      <td>Terror goes into overtime.</td>\n",
       "      <td>False</td>\n",
       "      <td>5.5</td>\n",
       "      <td>174.0</td>\n",
       "    </tr>\n",
       "    <tr>\n",
       "      <th>2</th>\n",
       "      <td>0.113872</td>\n",
       "      <td>Maverick</td>\n",
       "      <td>False</td>\n",
       "      <td>NaN</td>\n",
       "      <td>0</td>\n",
       "      <td>[{'id': 28, 'name': 'Action'}, {'id': 12, 'nam...</td>\n",
       "      <td>NaN</td>\n",
       "      <td>9359</td>\n",
       "      <td>tt0110478</td>\n",
       "      <td>en</td>\n",
       "      <td>...</td>\n",
       "      <td>[{'iso_3166_1': 'US', 'name': 'United States o...</td>\n",
       "      <td>1994-05-20</td>\n",
       "      <td>0.0</td>\n",
       "      <td>127.0</td>\n",
       "      <td>[{'iso_639_1': 'en', 'name': 'English'}]</td>\n",
       "      <td>Released</td>\n",
       "      <td>In their hands, a deck of cards was the only t...</td>\n",
       "      <td>False</td>\n",
       "      <td>6.6</td>\n",
       "      <td>490.0</td>\n",
       "    </tr>\n",
       "    <tr>\n",
       "      <th>3</th>\n",
       "      <td>0.111415</td>\n",
       "      <td>BASEketball</td>\n",
       "      <td>False</td>\n",
       "      <td>NaN</td>\n",
       "      <td>0</td>\n",
       "      <td>[{'id': 35, 'name': 'Comedy'}]</td>\n",
       "      <td>NaN</td>\n",
       "      <td>14013</td>\n",
       "      <td>tt0131857</td>\n",
       "      <td>en</td>\n",
       "      <td>...</td>\n",
       "      <td>[{'iso_3166_1': 'US', 'name': 'United States o...</td>\n",
       "      <td>1998-07-28</td>\n",
       "      <td>7027290.0</td>\n",
       "      <td>103.0</td>\n",
       "      <td>[{'iso_639_1': 'en', 'name': 'English'}]</td>\n",
       "      <td>Released</td>\n",
       "      <td>Two guys invented a game... and turned the spo...</td>\n",
       "      <td>False</td>\n",
       "      <td>5.9</td>\n",
       "      <td>150.0</td>\n",
       "    </tr>\n",
       "    <tr>\n",
       "      <th>4</th>\n",
       "      <td>0.105357</td>\n",
       "      <td>D3: The Mighty Ducks</td>\n",
       "      <td>False</td>\n",
       "      <td>{'id': 10709, 'name': 'The Mighty Ducks Collec...</td>\n",
       "      <td>0</td>\n",
       "      <td>[{'id': 28, 'name': 'Action'}, {'id': 35, 'nam...</td>\n",
       "      <td>NaN</td>\n",
       "      <td>10680</td>\n",
       "      <td>tt0116000</td>\n",
       "      <td>en</td>\n",
       "      <td>...</td>\n",
       "      <td>[{'iso_3166_1': 'US', 'name': 'United States o...</td>\n",
       "      <td>1996-10-04</td>\n",
       "      <td>22955097.0</td>\n",
       "      <td>104.0</td>\n",
       "      <td>[{'iso_639_1': 'en', 'name': 'English'}]</td>\n",
       "      <td>Released</td>\n",
       "      <td>No Fear. No Limits. No Brakes. Just Ducks.</td>\n",
       "      <td>False</td>\n",
       "      <td>5.3</td>\n",
       "      <td>99.0</td>\n",
       "    </tr>\n",
       "    <tr>\n",
       "      <th>5</th>\n",
       "      <td>0.092379</td>\n",
       "      <td>Peter Pan</td>\n",
       "      <td>False</td>\n",
       "      <td>{'id': 55422, 'name': 'Peter Pan Collection', ...</td>\n",
       "      <td>4000000</td>\n",
       "      <td>[{'id': 16, 'name': 'Animation'}, {'id': 10402...</td>\n",
       "      <td>NaN</td>\n",
       "      <td>10693</td>\n",
       "      <td>tt0046183</td>\n",
       "      <td>en</td>\n",
       "      <td>...</td>\n",
       "      <td>[{'iso_3166_1': 'US', 'name': 'United States o...</td>\n",
       "      <td>1953-02-05</td>\n",
       "      <td>87404651.0</td>\n",
       "      <td>77.0</td>\n",
       "      <td>[{'iso_639_1': 'en', 'name': 'English'}]</td>\n",
       "      <td>Released</td>\n",
       "      <td>It will live in your heart forever!</td>\n",
       "      <td>False</td>\n",
       "      <td>7.0</td>\n",
       "      <td>1380.0</td>\n",
       "    </tr>\n",
       "    <tr>\n",
       "      <th>6</th>\n",
       "      <td>0.091806</td>\n",
       "      <td>The Man Who Knew Too Little</td>\n",
       "      <td>False</td>\n",
       "      <td>NaN</td>\n",
       "      <td>20000000</td>\n",
       "      <td>[{'id': 35, 'name': 'Comedy'}, {'id': 53, 'nam...</td>\n",
       "      <td>NaN</td>\n",
       "      <td>9414</td>\n",
       "      <td>tt0120483</td>\n",
       "      <td>en</td>\n",
       "      <td>...</td>\n",
       "      <td>[{'iso_3166_1': 'US', 'name': 'United States o...</td>\n",
       "      <td>1997-11-14</td>\n",
       "      <td>13801755.0</td>\n",
       "      <td>97.0</td>\n",
       "      <td>[{'iso_639_1': 'en', 'name': 'English'}]</td>\n",
       "      <td>Released</td>\n",
       "      <td>He’s on a mission so secret, even he doesn’t k...</td>\n",
       "      <td>False</td>\n",
       "      <td>6.5</td>\n",
       "      <td>126.0</td>\n",
       "    </tr>\n",
       "    <tr>\n",
       "      <th>7</th>\n",
       "      <td>0.087496</td>\n",
       "      <td>Picnic</td>\n",
       "      <td>False</td>\n",
       "      <td>NaN</td>\n",
       "      <td>0</td>\n",
       "      <td>[{'id': 18, 'name': 'Drama'}, {'id': 10749, 'n...</td>\n",
       "      <td>NaN</td>\n",
       "      <td>39940</td>\n",
       "      <td>tt0048491</td>\n",
       "      <td>en</td>\n",
       "      <td>...</td>\n",
       "      <td>[{'iso_3166_1': 'US', 'name': 'United States o...</td>\n",
       "      <td>1955-11-18</td>\n",
       "      <td>0.0</td>\n",
       "      <td>115.0</td>\n",
       "      <td>[{'iso_639_1': 'en', 'name': 'English'}]</td>\n",
       "      <td>Released</td>\n",
       "      <td>Electrically attracted to each other...Overwhe...</td>\n",
       "      <td>False</td>\n",
       "      <td>6.7</td>\n",
       "      <td>19.0</td>\n",
       "    </tr>\n",
       "    <tr>\n",
       "      <th>8</th>\n",
       "      <td>0.083062</td>\n",
       "      <td>The 'Burbs</td>\n",
       "      <td>False</td>\n",
       "      <td>NaN</td>\n",
       "      <td>18000000</td>\n",
       "      <td>[{'id': 35, 'name': 'Comedy'}, {'id': 27, 'nam...</td>\n",
       "      <td>NaN</td>\n",
       "      <td>11974</td>\n",
       "      <td>tt0096734</td>\n",
       "      <td>en</td>\n",
       "      <td>...</td>\n",
       "      <td>[{'iso_3166_1': 'US', 'name': 'United States o...</td>\n",
       "      <td>1989-02-17</td>\n",
       "      <td>36602000.0</td>\n",
       "      <td>101.0</td>\n",
       "      <td>[{'iso_639_1': 'en', 'name': 'English'}]</td>\n",
       "      <td>Released</td>\n",
       "      <td>He's a man of peace in a savage land... Suburbia.</td>\n",
       "      <td>False</td>\n",
       "      <td>6.6</td>\n",
       "      <td>312.0</td>\n",
       "    </tr>\n",
       "    <tr>\n",
       "      <th>9</th>\n",
       "      <td>0.080986</td>\n",
       "      <td>Shopping</td>\n",
       "      <td>False</td>\n",
       "      <td>NaN</td>\n",
       "      <td>0</td>\n",
       "      <td>[{'id': 28, 'name': 'Action'}, {'id': 12, 'nam...</td>\n",
       "      <td>NaN</td>\n",
       "      <td>45549</td>\n",
       "      <td>tt0111173</td>\n",
       "      <td>en</td>\n",
       "      <td>...</td>\n",
       "      <td>[{'iso_3166_1': 'GB', 'name': 'United Kingdom'}]</td>\n",
       "      <td>1994-12-06</td>\n",
       "      <td>0.0</td>\n",
       "      <td>105.0</td>\n",
       "      <td>[{'iso_639_1': 'en', 'name': 'English'}]</td>\n",
       "      <td>Released</td>\n",
       "      <td>No one leaves without paying...</td>\n",
       "      <td>False</td>\n",
       "      <td>5.6</td>\n",
       "      <td>13.0</td>\n",
       "    </tr>\n",
       "  </tbody>\n",
       "</table>\n",
       "<p>10 rows × 25 columns</p>\n",
       "</div>"
      ],
      "text/plain": [
       "        cos                        title  adult  \\\n",
       "0  0.131711           The Innocent Sleep  False   \n",
       "1  0.128012                 Sudden Death  False   \n",
       "2  0.113872                     Maverick  False   \n",
       "3  0.111415                  BASEketball  False   \n",
       "4  0.105357         D3: The Mighty Ducks  False   \n",
       "5  0.092379                    Peter Pan  False   \n",
       "6  0.091806  The Man Who Knew Too Little  False   \n",
       "7  0.087496                       Picnic  False   \n",
       "8  0.083062                   The 'Burbs  False   \n",
       "9  0.080986                     Shopping  False   \n",
       "\n",
       "                               belongs_to_collection    budget  \\\n",
       "0                                                NaN         0   \n",
       "1                                                NaN  35000000   \n",
       "2                                                NaN         0   \n",
       "3                                                NaN         0   \n",
       "4  {'id': 10709, 'name': 'The Mighty Ducks Collec...         0   \n",
       "5  {'id': 55422, 'name': 'Peter Pan Collection', ...   4000000   \n",
       "6                                                NaN  20000000   \n",
       "7                                                NaN         0   \n",
       "8                                                NaN  18000000   \n",
       "9                                                NaN         0   \n",
       "\n",
       "                                              genres homepage      id  \\\n",
       "0                   [{'id': 53, 'name': 'Thriller'}]      NaN  249358   \n",
       "1  [{'id': 28, 'name': 'Action'}, {'id': 12, 'nam...      NaN    9091   \n",
       "2  [{'id': 28, 'name': 'Action'}, {'id': 12, 'nam...      NaN    9359   \n",
       "3                     [{'id': 35, 'name': 'Comedy'}]      NaN   14013   \n",
       "4  [{'id': 28, 'name': 'Action'}, {'id': 35, 'nam...      NaN   10680   \n",
       "5  [{'id': 16, 'name': 'Animation'}, {'id': 10402...      NaN   10693   \n",
       "6  [{'id': 35, 'name': 'Comedy'}, {'id': 53, 'nam...      NaN    9414   \n",
       "7  [{'id': 18, 'name': 'Drama'}, {'id': 10749, 'n...      NaN   39940   \n",
       "8  [{'id': 35, 'name': 'Comedy'}, {'id': 27, 'nam...      NaN   11974   \n",
       "9  [{'id': 28, 'name': 'Action'}, {'id': 12, 'nam...      NaN   45549   \n",
       "\n",
       "     imdb_id original_language  ...  \\\n",
       "0  tt0113425                fr  ...   \n",
       "1  tt0114576                en  ...   \n",
       "2  tt0110478                en  ...   \n",
       "3  tt0131857                en  ...   \n",
       "4  tt0116000                en  ...   \n",
       "5  tt0046183                en  ...   \n",
       "6  tt0120483                en  ...   \n",
       "7  tt0048491                en  ...   \n",
       "8  tt0096734                en  ...   \n",
       "9  tt0111173                en  ...   \n",
       "\n",
       "                                production_countries release_date     revenue  \\\n",
       "0   [{'iso_3166_1': 'GB', 'name': 'United Kingdom'}]   1996-01-25         0.0   \n",
       "1  [{'iso_3166_1': 'US', 'name': 'United States o...   1995-12-22  64350171.0   \n",
       "2  [{'iso_3166_1': 'US', 'name': 'United States o...   1994-05-20         0.0   \n",
       "3  [{'iso_3166_1': 'US', 'name': 'United States o...   1998-07-28   7027290.0   \n",
       "4  [{'iso_3166_1': 'US', 'name': 'United States o...   1996-10-04  22955097.0   \n",
       "5  [{'iso_3166_1': 'US', 'name': 'United States o...   1953-02-05  87404651.0   \n",
       "6  [{'iso_3166_1': 'US', 'name': 'United States o...   1997-11-14  13801755.0   \n",
       "7  [{'iso_3166_1': 'US', 'name': 'United States o...   1955-11-18         0.0   \n",
       "8  [{'iso_3166_1': 'US', 'name': 'United States o...   1989-02-17  36602000.0   \n",
       "9   [{'iso_3166_1': 'GB', 'name': 'United Kingdom'}]   1994-12-06         0.0   \n",
       "\n",
       "  runtime                          spoken_languages    status  \\\n",
       "0   110.0  [{'iso_639_1': 'en', 'name': 'English'}]  Released   \n",
       "1   106.0  [{'iso_639_1': 'en', 'name': 'English'}]  Released   \n",
       "2   127.0  [{'iso_639_1': 'en', 'name': 'English'}]  Released   \n",
       "3   103.0  [{'iso_639_1': 'en', 'name': 'English'}]  Released   \n",
       "4   104.0  [{'iso_639_1': 'en', 'name': 'English'}]  Released   \n",
       "5    77.0  [{'iso_639_1': 'en', 'name': 'English'}]  Released   \n",
       "6    97.0  [{'iso_639_1': 'en', 'name': 'English'}]  Released   \n",
       "7   115.0  [{'iso_639_1': 'en', 'name': 'English'}]  Released   \n",
       "8   101.0  [{'iso_639_1': 'en', 'name': 'English'}]  Released   \n",
       "9   105.0  [{'iso_639_1': 'en', 'name': 'English'}]  Released   \n",
       "\n",
       "                                             tagline  video  vote_average  \\\n",
       "0                                                NaN  False           0.0   \n",
       "1                         Terror goes into overtime.  False           5.5   \n",
       "2  In their hands, a deck of cards was the only t...  False           6.6   \n",
       "3  Two guys invented a game... and turned the spo...  False           5.9   \n",
       "4         No Fear. No Limits. No Brakes. Just Ducks.  False           5.3   \n",
       "5                It will live in your heart forever!  False           7.0   \n",
       "6  He’s on a mission so secret, even he doesn’t k...  False           6.5   \n",
       "7  Electrically attracted to each other...Overwhe...  False           6.7   \n",
       "8  He's a man of peace in a savage land... Suburbia.  False           6.6   \n",
       "9                    No one leaves without paying...  False           5.6   \n",
       "\n",
       "  vote_count  \n",
       "0        0.0  \n",
       "1      174.0  \n",
       "2      490.0  \n",
       "3      150.0  \n",
       "4       99.0  \n",
       "5     1380.0  \n",
       "6      126.0  \n",
       "7       19.0  \n",
       "8      312.0  \n",
       "9       13.0  \n",
       "\n",
       "[10 rows x 25 columns]"
      ]
     },
     "execution_count": 68,
     "metadata": {},
     "output_type": "execute_result"
    }
   ],
   "source": [
    "b = a.merge(data, left_on=\"title\", right_on=\"title\")\n",
    "b = b.drop_duplicates()\n",
    "b"
   ]
  },
  {
   "cell_type": "code",
   "execution_count": 8,
   "metadata": {},
   "outputs": [
    {
     "name": "stdout",
     "output_type": "stream",
     "text": [
      "                         title  vote_average\n",
      "0                    Brainscan           6.0\n",
      "1                      Quintet           5.6\n",
      "2               The Dark Angel           7.0\n",
      "3                    Word Wars           6.1\n",
      "4  The Mindscape of Alan Moore           6.3\n",
      "5                       DeVour           4.9\n",
      "6                      Masques           5.9\n",
      "7             Poolhall Junkies           6.5\n",
      "8               Wreck-It Ralph           7.1\n",
      "9                     eXistenZ           6.7\n"
     ]
    }
   ],
   "source": [
    "c = b[['title','vote_average']]\n",
    "print(c)"
   ]
  },
  {
   "cell_type": "code",
   "execution_count": 9,
   "metadata": {},
   "outputs": [],
   "source": [
    "import seaborn as sns"
   ]
  },
  {
   "cell_type": "code",
   "execution_count": 10,
   "metadata": {
    "scrolled": false
   },
   "outputs": [
    {
     "data": {
      "text/plain": [
       "Text(0.5, 1.0, 'Movie : Jumanji')"
      ]
     },
     "execution_count": 10,
     "metadata": {},
     "output_type": "execute_result"
    },
    {
     "data": {
      "image/png": "[encoded data removed]",
      "text/plain": [
       "<Figure size 432x288 with 1 Axes>"
      ]
     },
     "metadata": {
      "needs_background": "light"
     },
     "output_type": "display_data"
    }
   ],
   "source": [
    "ax = sns.barplot(x=c.index, y=c.vote_average)\n",
    "ax.set_xlabel('Index')\n",
    "ax.set_ylabel('vote_average')\n",
    "ax.set_title('Movie : Jumanji')"
   ]
  },
  {
   "cell_type": "code",
   "execution_count": 11,
   "metadata": {},
   "outputs": [],
   "source": [
    "orignial_vote_average = pd.DataFrame(data[data.title == x])"
   ]
  },
  {
   "cell_type": "code",
   "execution_count": 12,
   "metadata": {},
   "outputs": [
    {
     "data": {
      "text/plain": [
       "1    6.9\n",
       "Name: vote_average, dtype: float64"
      ]
     },
     "execution_count": 12,
     "metadata": {},
     "output_type": "execute_result"
    }
   ],
   "source": [
    "orignial_vote_average.vote_average"
   ]
  },
  {
   "cell_type": "code",
   "execution_count": 49,
   "metadata": {
    "scrolled": true
   },
   "outputs": [
    {
     "data": {
      "text/plain": [
       "Text(0.5, 1.0, 'Movie : Jumanji')"
      ]
     },
     "execution_count": 49,
     "metadata": {},
     "output_type": "execute_result"
    },
    {
     "data": {
      "image/png": "[encoded data removed]",
      "text/plain": [
       "<Figure size 432x288 with 1 Axes>"
      ]
     },
     "metadata": {
      "needs_background": "light"
     },
     "output_type": "display_data"
    }
   ],
   "source": [
    "ax = sns.barplot(x=c.index[c.vote_average >= 5.9],y=c.vote_average[c.vote_average >= 5.9])\n",
    "ax.set_xlabel('Index')\n",
    "ax.set_ylabel('Vote_average')\n",
    "ax.set_title('Movie : Jumanji')"
   ]
  },
  {
   "cell_type": "code",
   "execution_count": 23,
   "metadata": {},
   "outputs": [
    {
     "data": {
      "text/plain": [
       "Text(0.5, 1.0, 'Movie : Jumanji')"
      ]
     },
     "execution_count": 23,
     "metadata": {},
     "output_type": "execute_result"
    },
    {
     "data": {
      "image/png": "[encoded data removed]",
      "text/plain": [
       "<Figure size 432x288 with 1 Axes>"
      ]
     },
     "metadata": {
      "needs_background": "light"
     },
     "output_type": "display_data"
    }
   ],
   "source": [
    "ax = sns.barplot(x=c.title, y=c.vote_average)\n",
    "plt.xticks(rotation = - 90 )\n",
    "ax.set_xlabel('Title')\n",
    "ax.set_ylabel('Vote_average')\n",
    "ax.set_title('Movie : Jumanji')"
   ]
  },
  {
   "cell_type": "code",
   "execution_count": 15,
   "metadata": {},
   "outputs": [],
   "source": [
    "# 상영시간"
   ]
  },
  {
   "cell_type": "code",
   "execution_count": 27,
   "metadata": {},
   "outputs": [],
   "source": [
    "r = b[['title','runtime']]"
   ]
  },
  {
   "cell_type": "code",
   "execution_count": 17,
   "metadata": {},
   "outputs": [
    {
     "name": "stdout",
     "output_type": "stream",
     "text": [
      "                         title  runtime\n",
      "0                    Brainscan     96.0\n",
      "1                      Quintet    118.0\n",
      "2               The Dark Angel    106.0\n",
      "3                    Word Wars     80.0\n",
      "4  The Mindscape of Alan Moore     78.0\n",
      "5                       DeVour     90.0\n",
      "6                      Masques    100.0\n",
      "7             Poolhall Junkies     99.0\n",
      "8               Wreck-It Ralph    108.0\n",
      "9                     eXistenZ     97.0\n"
     ]
    }
   ],
   "source": [
    "print(r)"
   ]
  },
  {
   "cell_type": "code",
   "execution_count": 26,
   "metadata": {},
   "outputs": [
    {
     "data": {
      "text/plain": [
       "Text(0.5, 1.0, 'Movie : Jumanji')"
      ]
     },
     "execution_count": 26,
     "metadata": {},
     "output_type": "execute_result"
    },
    {
     "data": {
      "image/png": "[encoded data removed]",
      "text/plain": [
       "<Figure size 432x288 with 1 Axes>"
      ]
     },
     "metadata": {
      "needs_background": "light"
     },
     "output_type": "display_data"
    }
   ],
   "source": [
    "ax = sns.barplot(x=r.title, y=r.runtime)\n",
    "plt.xticks(rotation = - 90 )\n",
    "ax.set_xlabel('Title')\n",
    "ax.set_ylabel('Runtime')\n",
    "ax.set_title('Movie : Jumanji')"
   ]
  },
  {
   "cell_type": "code",
   "execution_count": 10,
   "metadata": {},
   "outputs": [
    {
     "data": {
      "text/plain": [
       "1    104.0\n",
       "Name: runtime, dtype: float64"
      ]
     },
     "execution_count": 10,
     "metadata": {},
     "output_type": "execute_result"
    }
   ],
   "source": [
    "orignial_runtime = pd.DataFrame(data[data.title == x])\n",
    "orignial_runtime.runtime"
   ]
  },
  {
   "cell_type": "code",
   "execution_count": 29,
   "metadata": {},
   "outputs": [
    {
     "data": {
      "text/plain": [
       "Text(0.5, 1.0, 'Movie : Jumanji')"
      ]
     },
     "execution_count": 29,
     "metadata": {},
     "output_type": "execute_result"
    },
    {
     "data": {
      "image/png": "[encoded data removed]",
      "text/plain": [
       "<Figure size 432x288 with 1 Axes>"
      ]
     },
     "metadata": {
      "needs_background": "light"
     },
     "output_type": "display_data"
    }
   ],
   "source": [
    "ax = sns.barplot(x=r.title[r.runtime >= 104], y=r.runtime[r.runtime >= 104])\n",
    "plt.xticks(rotation = - 45 )\n",
    "ax.set_xlabel('title')\n",
    "ax.set_ylabel('Runtime')\n",
    "ax.set_title('Movie : Jumanji')"
   ]
  },
  {
   "cell_type": "code",
   "execution_count": 57,
   "metadata": {},
   "outputs": [
    {
     "data": {
      "text/plain": [
       "Text(0.5, 1.0, 'Movie : Jumanji')"
      ]
     },
     "execution_count": 57,
     "metadata": {},
     "output_type": "execute_result"
    },
    {
     "data": {
      "image/png": "[encoded data removed]",
      "text/plain": [
       "<Figure size 432x288 with 1 Axes>"
      ]
     },
     "metadata": {
      "needs_background": "light"
     },
     "output_type": "display_data"
    }
   ],
   "source": [
    "ax = sns.regplot(x=b.vote_average, y=b.runtime,fit_reg=False )\n",
    "plt.xticks(rotation = - 90 )\n",
    "ax.set_xlabel('Vote_average')\n",
    "ax.set_ylabel('Runtime')\n",
    "ax.set_title('Movie : Jumanji')"
   ]
  },
  {
   "cell_type": "code",
   "execution_count": 127,
   "metadata": {},
   "outputs": [],
   "source": [
    "# 개봉날짜"
   ]
  },
  {
   "cell_type": "code",
   "execution_count": 35,
   "metadata": {},
   "outputs": [
    {
     "name": "stdout",
     "output_type": "stream",
     "text": [
      "<class 'pandas.core.frame.DataFrame'>\n",
      "RangeIndex: 20000 entries, 0 to 19999\n",
      "Data columns (total 24 columns):\n",
      " #   Column                 Non-Null Count  Dtype  \n",
      "---  ------                 --------------  -----  \n",
      " 0   adult                  20000 non-null  object \n",
      " 1   belongs_to_collection  2399 non-null   object \n",
      " 2   budget                 20000 non-null  object \n",
      " 3   genres                 20000 non-null  object \n",
      " 4   homepage               3055 non-null   object \n",
      " 5   id                     20000 non-null  object \n",
      " 6   imdb_id                19993 non-null  object \n",
      " 7   original_language      19999 non-null  object \n",
      " 8   original_title         20000 non-null  object \n",
      " 9   overview               20000 non-null  object \n",
      " 10  popularity             19998 non-null  object \n",
      " 11  poster_path            19907 non-null  object \n",
      " 12  production_companies   19999 non-null  object \n",
      " 13  production_countries   19999 non-null  object \n",
      " 14  release_date           19983 non-null  object \n",
      " 15  revenue                19998 non-null  float64\n",
      " 16  runtime                19971 non-null  float64\n",
      " 17  spoken_languages       19998 non-null  object \n",
      " 18  status                 19979 non-null  object \n",
      " 19  tagline                11706 non-null  object \n",
      " 20  title                  19998 non-null  object \n",
      " 21  video                  19998 non-null  object \n",
      " 22  vote_average           19998 non-null  float64\n",
      " 23  vote_count             19998 non-null  float64\n",
      "dtypes: float64(4), object(20)\n",
      "memory usage: 3.7+ MB\n"
     ]
    }
   ],
   "source": [
    "data.info()"
   ]
  },
  {
   "cell_type": "code",
   "execution_count": 36,
   "metadata": {},
   "outputs": [],
   "source": [
    "data['release_date'] = pd.to_datetime(data['release_date'],errors='coerce')"
   ]
  },
  {
   "cell_type": "code",
   "execution_count": 37,
   "metadata": {},
   "outputs": [
    {
     "name": "stdout",
     "output_type": "stream",
     "text": [
      "<class 'pandas.core.frame.DataFrame'>\n",
      "RangeIndex: 20000 entries, 0 to 19999\n",
      "Data columns (total 24 columns):\n",
      " #   Column                 Non-Null Count  Dtype         \n",
      "---  ------                 --------------  -----         \n",
      " 0   adult                  20000 non-null  object        \n",
      " 1   belongs_to_collection  2399 non-null   object        \n",
      " 2   budget                 20000 non-null  object        \n",
      " 3   genres                 20000 non-null  object        \n",
      " 4   homepage               3055 non-null   object        \n",
      " 5   id                     20000 non-null  object        \n",
      " 6   imdb_id                19993 non-null  object        \n",
      " 7   original_language      19999 non-null  object        \n",
      " 8   original_title         20000 non-null  object        \n",
      " 9   overview               20000 non-null  object        \n",
      " 10  popularity             19998 non-null  object        \n",
      " 11  poster_path            19907 non-null  object        \n",
      " 12  production_companies   19999 non-null  object        \n",
      " 13  production_countries   19999 non-null  object        \n",
      " 14  release_date           19982 non-null  datetime64[ns]\n",
      " 15  revenue                19998 non-null  float64       \n",
      " 16  runtime                19971 non-null  float64       \n",
      " 17  spoken_languages       19998 non-null  object        \n",
      " 18  status                 19979 non-null  object        \n",
      " 19  tagline                11706 non-null  object        \n",
      " 20  title                  19998 non-null  object        \n",
      " 21  video                  19998 non-null  object        \n",
      " 22  vote_average           19998 non-null  float64       \n",
      " 23  vote_count             19998 non-null  float64       \n",
      "dtypes: datetime64[ns](1), float64(4), object(19)\n",
      "memory usage: 3.7+ MB\n"
     ]
    }
   ],
   "source": [
    "data.info()"
   ]
  },
  {
   "cell_type": "code",
   "execution_count": 59,
   "metadata": {},
   "outputs": [
    {
     "data": {
      "text/plain": [
       "18"
      ]
     },
     "execution_count": 59,
     "metadata": {},
     "output_type": "execute_result"
    }
   ],
   "source": [
    "data.release_date.isnull().sum()"
   ]
  },
  {
   "cell_type": "code",
   "execution_count": 41,
   "metadata": {},
   "outputs": [],
   "source": [
    "b = a.merge(data,left_on='title', right_on=\"title\")"
   ]
  },
  {
   "cell_type": "code",
   "execution_count": 42,
   "metadata": {},
   "outputs": [
    {
     "name": "stdout",
     "output_type": "stream",
     "text": [
      "                         title release_date  vote_average\n",
      "0                    Brainscan   1994-04-22           6.0\n",
      "1                      Quintet   1979-02-09           5.6\n",
      "2               The Dark Angel   1935-09-08           7.0\n",
      "3                    Word Wars   2004-05-28           6.1\n",
      "4  The Mindscape of Alan Moore   2003-08-24           6.3\n",
      "5                       DeVour   2005-05-31           4.9\n",
      "6                      Masques   1987-02-11           5.9\n",
      "7             Poolhall Junkies   2002-06-07           6.5\n",
      "8               Wreck-It Ralph   2012-11-01           7.1\n",
      "9                     eXistenZ   1999-04-14           6.7\n"
     ]
    }
   ],
   "source": [
    "t = b[['title','release_date','vote_average']]\n",
    "print(t)"
   ]
  },
  {
   "cell_type": "code",
   "execution_count": 43,
   "metadata": {},
   "outputs": [
    {
     "name": "stdout",
     "output_type": "stream",
     "text": [
      "                         title release_date  vote_average  year\n",
      "0                    Brainscan   1994-04-22           6.0  1994\n",
      "1                      Quintet   1979-02-09           5.6  1979\n",
      "2               The Dark Angel   1935-09-08           7.0  1935\n",
      "3                    Word Wars   2004-05-28           6.1  2004\n",
      "4  The Mindscape of Alan Moore   2003-08-24           6.3  2003\n",
      "5                       DeVour   2005-05-31           4.9  2005\n",
      "6                      Masques   1987-02-11           5.9  1987\n",
      "7             Poolhall Junkies   2002-06-07           6.5  2002\n",
      "8               Wreck-It Ralph   2012-11-01           7.1  2012\n",
      "9                     eXistenZ   1999-04-14           6.7  1999\n"
     ]
    },
    {
     "name": "stderr",
     "output_type": "stream",
     "text": [
      "<ipython-input-43-77d29a71047d>:1: SettingWithCopyWarning: \n",
      "A value is trying to be set on a copy of a slice from a DataFrame.\n",
      "Try using .loc[row_indexer,col_indexer] = value instead\n",
      "\n",
      "See the caveats in the documentation: https://pandas.pydata.org/pandas-docs/stable/user_guide/indexing.html#returning-a-view-versus-a-copy\n",
      "  t['year'] = t['release_date'].dt.year\n"
     ]
    }
   ],
   "source": [
    "t['year'] = t['release_date'].dt.year\n",
    "print(t)"
   ]
  },
  {
   "cell_type": "code",
   "execution_count": 44,
   "metadata": {},
   "outputs": [
    {
     "name": "stdout",
     "output_type": "stream",
     "text": [
      "            title release_date  vote_average  year\n",
      "0       Brainscan   1994-04-22           6.0  1994\n",
      "1         Quintet   1979-02-09           5.6  1979\n",
      "2  The Dark Angel   1935-09-08           7.0  1935\n",
      "6         Masques   1987-02-11           5.9  1987\n",
      "9        eXistenZ   1999-04-14           6.7  1999\n"
     ]
    }
   ],
   "source": [
    "old_t = t.loc[t.year < 2000]\n",
    "print(old_t)"
   ]
  },
  {
   "cell_type": "code",
   "execution_count": 45,
   "metadata": {},
   "outputs": [
    {
     "name": "stdout",
     "output_type": "stream",
     "text": [
      "                         title release_date  vote_average  year\n",
      "3                    Word Wars   2004-05-28           6.1  2004\n",
      "4  The Mindscape of Alan Moore   2003-08-24           6.3  2003\n",
      "5                       DeVour   2005-05-31           4.9  2005\n",
      "7             Poolhall Junkies   2002-06-07           6.5  2002\n",
      "8               Wreck-It Ralph   2012-11-01           7.1  2012\n"
     ]
    }
   ],
   "source": [
    "new_t = t.loc[t.year >= 2000]\n",
    "print(new_t)"
   ]
  },
  {
   "cell_type": "code",
   "execution_count": 47,
   "metadata": {},
   "outputs": [
    {
     "data": {
      "text/plain": [
       "Text(0.5, 1.0, 'Movie : Jumanji(Year < 2000)')"
      ]
     },
     "execution_count": 47,
     "metadata": {},
     "output_type": "execute_result"
    },
    {
     "data": {
      "image/png": "[encoded data removed]",
      "text/plain": [
       "<Figure size 432x288 with 1 Axes>"
      ]
     },
     "metadata": {
      "needs_background": "light"
     },
     "output_type": "display_data"
    }
   ],
   "source": [
    "ax=sns.barplot(x=old_t.title, y=old_t.vote_average)\n",
    "plt.xticks(rotation = 90 )\n",
    "ax.set_xlabel(\"Title\")\n",
    "ax.set_ylabel(\"Vote_average\")\n",
    "ax.set_title(\"Movie : Jumanji(Year < 2000)\")"
   ]
  },
  {
   "cell_type": "code",
   "execution_count": 53,
   "metadata": {},
   "outputs": [
    {
     "data": {
      "text/plain": [
       "Text(0.5, 1.0, 'Movie : Jumanji [Year < 2000]')"
      ]
     },
     "execution_count": 53,
     "metadata": {},
     "output_type": "execute_result"
    },
    {
     "data": {
      "image/png": "[encoded data removed]",
      "text/plain": [
       "<Figure size 432x288 with 1 Axes>"
      ]
     },
     "metadata": {
      "needs_background": "light"
     },
     "output_type": "display_data"
    }
   ],
   "source": [
    "ax = sns.barplot(x=old_t.title[old_t.vote_average >= 5.9], y =old_t.vote_average[old_t.vote_average >= 5.9])\n",
    "plt.xticks(rotation = 45 )\n",
    "ax.set_xlabel(\"Title\")\n",
    "ax.set_ylabel(\"Vote_average\")\n",
    "ax.set_title(\"Movie : Jumanji [Year < 2000]\")"
   ]
  },
  {
   "cell_type": "code",
   "execution_count": null,
   "metadata": {},
   "outputs": [],
   "source": []
  }
 ],
 "metadata": {
  "kernelspec": {
   "display_name": "Python 3",
   "language": "python",
   "name": "python3"
  },
  "language_info": {
   "codemirror_mode": {
    "name": "ipython",
    "version": 3
   },
   "file_extension": ".py",
   "mimetype": "text/x-python",
   "name": "python",
   "nbconvert_exporter": "python",
   "pygments_lexer": "ipython3",
   "version": "3.8.3"
  }
 },
 "nbformat": 4,
 "nbformat_minor": 4
}
