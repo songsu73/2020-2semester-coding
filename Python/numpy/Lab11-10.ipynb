{
 "cells": [
  {
   "cell_type": "code",
   "execution_count": 10,
   "metadata": {},
   "outputs": [
    {
     "name": "stdout",
     "output_type": "stream",
     "text": [
      "X: 1.0 \tY: 2.0 \tZ: 3.0\n"
     ]
    }
   ],
   "source": [
    "import numpy as np\n",
    "\n",
    "a = np.array([[1,1,-1],[2,-1,3],[1,2,1]])\n",
    "b = np.array([0,9,8])\n",
    "answer = np.linalg.solve(a,b)\n",
    "\n",
    "print(\"X:\",round(answer[0],1),\"\\tY:\",answer[1],\"\\tZ:\",round(answer[2],1))"
   ]
  },
  {
   "cell_type": "code",
   "execution_count": 12,
   "metadata": {},
   "outputs": [
    {
     "name": "stdout",
     "output_type": "stream",
     "text": [
      "det(A) :  -11.0\n"
     ]
    }
   ],
   "source": [
    "A = np.array([[1,1,-1],[2,-1,3],[1,2,1]],dtype = np.int32)\n",
    "c = np.linalg.det(A)\n",
    "print(\"det(A) : \",round(c,1))"
   ]
  },
  {
   "cell_type": "code",
   "execution_count": null,
   "metadata": {},
   "outputs": [],
   "source": []
  }
 ],
 "metadata": {
  "kernelspec": {
   "display_name": "Python 3",
   "language": "python",
   "name": "python3"
  },
  "language_info": {
   "codemirror_mode": {
    "name": "ipython",
    "version": 3
   },
   "file_extension": ".py",
   "mimetype": "text/x-python",
   "name": "python",
   "nbconvert_exporter": "python",
   "pygments_lexer": "ipython3",
   "version": "3.8.3"
  }
 },
 "nbformat": 4,
 "nbformat_minor": 4
}
