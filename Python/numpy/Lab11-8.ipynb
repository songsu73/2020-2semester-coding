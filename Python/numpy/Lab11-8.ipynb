{
 "cells": [
  {
   "cell_type": "code",
   "execution_count": 17,
   "metadata": {},
   "outputs": [
    {
     "name": "stdout",
     "output_type": "stream",
     "text": [
      "index \t\t element\n",
      "(0, 0, 0) \t 0\n",
      "(0, 0, 1) \t 1\n",
      "(0, 1, 0) \t 2\n",
      "(0, 1, 1) \t 3\n",
      "(0, 2, 0) \t 4\n",
      "(0, 2, 1) \t 5\n",
      "(1, 0, 0) \t 6\n",
      "(1, 0, 1) \t 7\n",
      "(1, 1, 0) \t 8\n",
      "(1, 1, 1) \t 9\n",
      "(1, 2, 0) \t 10\n",
      "(1, 2, 1) \t 11\n",
      "(2, 0, 0) \t 12\n",
      "(2, 0, 1) \t 13\n",
      "(2, 1, 0) \t 14\n",
      "(2, 1, 1) \t 15\n",
      "(2, 2, 0) \t 16\n",
      "(2, 2, 1) \t 17\n",
      "(3, 0, 0) \t 18\n",
      "(3, 0, 1) \t 19\n",
      "(3, 1, 0) \t 20\n",
      "(3, 1, 1) \t 21\n",
      "(3, 2, 0) \t 22\n",
      "(3, 2, 1) \t 23\n"
     ]
    }
   ],
   "source": [
    "import numpy as np\n",
    "\n",
    "a = np.arange(0,24).reshape(4,3,2)\n",
    "print(\"index\",\"\\t\\t\",\"element\")\n",
    "for b in np.ndindex(4,3,2) :\n",
    "    print(b,\"\\t\",a[b])"
   ]
  },
  {
   "cell_type": "code",
   "execution_count": 21,
   "metadata": {},
   "outputs": [
    {
     "data": {
      "text/plain": [
       "array([0, 1, 6, 7])"
      ]
     },
     "execution_count": 21,
     "metadata": {},
     "output_type": "execute_result"
    }
   ],
   "source": [
    "np.concatenate((a[0,0],a[1,0]),axis=None)"
   ]
  },
  {
   "cell_type": "code",
   "execution_count": 23,
   "metadata": {},
   "outputs": [
    {
     "data": {
      "text/plain": [
       "array([ 0,  1, 14, 15])"
      ]
     },
     "execution_count": 23,
     "metadata": {},
     "output_type": "execute_result"
    }
   ],
   "source": [
    "np.concatenate((a[0,0],a[2,1]),axis=None)"
   ]
  },
  {
   "cell_type": "code",
   "execution_count": 42,
   "metadata": {},
   "outputs": [
    {
     "data": {
      "text/plain": [
       "array([[ 0,  1],\n",
       "       [ 2,  3],\n",
       "       [ 4,  5],\n",
       "       [ 6,  7],\n",
       "       [ 8,  9],\n",
       "       [10, 11]])"
      ]
     },
     "execution_count": 42,
     "metadata": {},
     "output_type": "execute_result"
    }
   ],
   "source": [
    "np.concatenate((a[0],a[1]),axis=0)"
   ]
  },
  {
   "cell_type": "code",
   "execution_count": 43,
   "metadata": {},
   "outputs": [
    {
     "data": {
      "text/plain": [
       "array([[ 0,  1,  6,  7],\n",
       "       [ 2,  3,  8,  9],\n",
       "       [ 4,  5, 10, 11]])"
      ]
     },
     "execution_count": 43,
     "metadata": {},
     "output_type": "execute_result"
    }
   ],
   "source": [
    "np.concatenate((a[0],a[1]),axis=1)"
   ]
  },
  {
   "cell_type": "code",
   "execution_count": null,
   "metadata": {},
   "outputs": [],
   "source": []
  }
 ],
 "metadata": {
  "kernelspec": {
   "display_name": "Python 3",
   "language": "python",
   "name": "python3"
  },
  "language_info": {
   "codemirror_mode": {
    "name": "ipython",
    "version": 3
   },
   "file_extension": ".py",
   "mimetype": "text/x-python",
   "name": "python",
   "nbconvert_exporter": "python",
   "pygments_lexer": "ipython3",
   "version": "3.8.3"
  }
 },
 "nbformat": 4,
 "nbformat_minor": 4
}
